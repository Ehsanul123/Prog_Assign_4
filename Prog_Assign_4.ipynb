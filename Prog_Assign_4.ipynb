{
 "cells": [
  {
   "cell_type": "code",
   "execution_count": 9,
   "id": "83ab445e",
   "metadata": {},
   "outputs": [
    {
     "name": "stdout",
     "output_type": "stream",
     "text": [
      "Enter a number: 5\n",
      "The factorial of 5 is 120\n"
     ]
    }
   ],
   "source": [
    "#(1):-Python Program to Find the Factorial of a Number.\n",
    "\n",
    "num = int(input(\"Enter a number: \"))    \n",
    "factorial = 1    \n",
    "if num < 0:    \n",
    "   print(\"No  Factorial for negative numbers\")    \n",
    "elif num == 0:    \n",
    "   print(\"The factorial of 0 is 1\")    \n",
    "else:    \n",
    "   for i in range(1,num + 1):    \n",
    "       factorial = factorial*i    \n",
    "   print(\"The factorial of\",num,\"is\",factorial)   "
   ]
  },
  {
   "cell_type": "code",
   "execution_count": 10,
   "id": "2b4104e7",
   "metadata": {},
   "outputs": [
    {
     "name": "stdout",
     "output_type": "stream",
     "text": [
      "Enter the number: 5\n",
      "Multiplication Table of 5\n",
      "5 X 1 = 5\n",
      "5 X 2 = 10\n",
      "5 X 3 = 15\n",
      "5 X 4 = 20\n",
      "5 X 5 = 25\n",
      "5 X 6 = 30\n",
      "5 X 7 = 35\n",
      "5 X 8 = 40\n",
      "5 X 9 = 45\n",
      "5 X 10 = 50\n"
     ]
    }
   ],
   "source": [
    "#(2):-Python Program to Display the multiplication Table.\n",
    "\n",
    "num = int(input(\"Enter the number: \"))\n",
    "\n",
    "print(\"Multiplication Table of\", num)\n",
    "for i in range(1, 11):\n",
    "   print(num,\"X\",i,\"=\",num * i)"
   ]
  },
  {
   "cell_type": "code",
   "execution_count": 13,
   "id": "4087d271",
   "metadata": {},
   "outputs": [
    {
     "name": "stdout",
     "output_type": "stream",
     "text": [
      "Enter how many terms: 5\n",
      "\n",
      "Fibonacci series up to 5 Num:\n",
      "0\n",
      "1\n",
      "1\n",
      "2\n",
      "3\n"
     ]
    }
   ],
   "source": [
    "#(3):-Python Program to Print the Fibonacci sequence.\n",
    "\n",
    "Num = int(input(\"Enter how many terms: \"))\n",
    "\n",
    "a,b = 0, 1\n",
    "i = 0\n",
    "\n",
    "if Num <= 0:\n",
    "   print(\"Invalid input\")\n",
    "   \n",
    "elif Num == 1:\n",
    "   print(\"\\nFibonacci series up to\",Num,\"Num:\")\n",
    "   print(a)\n",
    "else:\n",
    "   print(\"\\nFibonacci series up to\",Num,\"Num:\")\n",
    "   while i < Num:\n",
    "     print(a)\n",
    "     next = a + b\n",
    "     a = b\n",
    "     b = next\n",
    "     i +=1"
   ]
  },
  {
   "cell_type": "code",
   "execution_count": 15,
   "id": "575fc1fb",
   "metadata": {},
   "outputs": [
    {
     "name": "stdout",
     "output_type": "stream",
     "text": [
      "Enter Num : 123\n",
      "Given number is not an Armstrong Number\n"
     ]
    }
   ],
   "source": [
    "#(4):-Python Program to Check Armstrong Number.\n",
    "\n",
    "number = int(input(\"Enter Num : \"))\n",
    "temp = number\n",
    "add_sum = 0\n",
    "while temp != 0:\n",
    "    k = temp % 10\n",
    "    add_sum += k*k*k\n",
    "    temp = temp//10\n",
    "if add_sum == number:\n",
    "    print('Given number is a three-digit Armstrong Number')\n",
    "else:\n",
    "    print('Given number is not an Armstrong Number')"
   ]
  },
  {
   "cell_type": "code",
   "execution_count": 21,
   "id": "058a5396",
   "metadata": {},
   "outputs": [
    {
     "name": "stdout",
     "output_type": "stream",
     "text": [
      "Enter lower range: 10\n",
      "Enter upper range: 100\n",
      "64\n"
     ]
    }
   ],
   "source": [
    "#(5):-Python Program to Find Armstrong Number in an Interval.\n",
    "\n",
    "lower = int(input(\"Enter lower range: \"))  \n",
    "upper = int(input(\"Enter upper range: \"))  \n",
    "  \n",
    "for num in range(lower,upper + 1):  \n",
    "   sum = 0  \n",
    "   temp = num  \n",
    "   while temp > 0:  \n",
    "       digit = temp % 10  \n",
    "       sum += digit ** 3  \n",
    "       temp //= 10  \n",
    "       if num == sum:  \n",
    "            print(num) "
   ]
  },
  {
   "cell_type": "code",
   "execution_count": 23,
   "id": "af9a157a",
   "metadata": {},
   "outputs": [
    {
     "name": "stdout",
     "output_type": "stream",
     "text": [
      "Enter lower range: 10\n",
      "The sum is 55\n"
     ]
    }
   ],
   "source": [
    "#(6):-Python Program to Find the Sum of Natural Numbers.\n",
    "\n",
    "num = int(input(\"Enter lower range: \")) \n",
    "\n",
    "if num < 0:\n",
    "   print(\"Enter a positive number\")\n",
    "else:\n",
    "   sum = 0\n",
    "   \n",
    "   while(num > 0):\n",
    "       sum += num\n",
    "       num -= 1\n",
    "   print(\"The sum is\", sum)"
   ]
  },
  {
   "cell_type": "code",
   "execution_count": null,
   "id": "05cb9f1d",
   "metadata": {},
   "outputs": [],
   "source": []
  }
 ],
 "metadata": {
  "kernelspec": {
   "display_name": "Python 3 (ipykernel)",
   "language": "python",
   "name": "python3"
  },
  "language_info": {
   "codemirror_mode": {
    "name": "ipython",
    "version": 3
   },
   "file_extension": ".py",
   "mimetype": "text/x-python",
   "name": "python",
   "nbconvert_exporter": "python",
   "pygments_lexer": "ipython3",
   "version": "3.9.7"
  }
 },
 "nbformat": 4,
 "nbformat_minor": 5
}
